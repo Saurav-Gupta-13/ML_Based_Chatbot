{
  "nbformat": 4,
  "nbformat_minor": 0,
  "metadata": {
    "colab": {
      "provenance": []
    },
    "kernelspec": {
      "name": "python3",
      "display_name": "Python 3"
    },
    "language_info": {
      "name": "python"
    }
  },
  "cells": [
    {
      "cell_type": "code",
      "execution_count": 11,
      "metadata": {
        "id": "DB2cUp8nwJIz"
      },
      "outputs": [],
      "source": [
        "import numpy as np\n",
        "import nltk\n",
        "import string\n",
        "import random\n"
      ]
    },
    {
      "cell_type": "code",
      "source": [
        "f=open('/content/data.txt','r',errors='ignore')\n",
        "raw_doc=f.read()"
      ],
      "metadata": {
        "id": "GZZ1oeRWwWi8"
      },
      "execution_count": 13,
      "outputs": []
    },
    {
      "cell_type": "code",
      "source": [
        "raw_doc"
      ],
      "metadata": {
        "colab": {
          "base_uri": "https://localhost:8080/",
          "height": 244
        },
        "id": "8g9sjqMKxSfq",
        "outputId": "bc261439-a86f-4480-ef82-a675debcc9fe"
      },
      "execution_count": 3,
      "outputs": [
        {
          "output_type": "execute_result",
          "data": {
            "text/plain": [
              "'Jump to content\\nToggle sidebar\\n\\nWikipediaThe Free Encyclopedia\\nSearch\\nCreate account\\n\\nFoo\\n\\nDesktop icon\\nWe’ve made a few changes to your reading experience.\\nThese improvements will make Wikipedia more welcoming and easier to use.\\n\\nChatbot\\n\\nArticle\\nTalk\\nRead\\nEdit\\nView history\\nFrom Wikipedia, the free encyclopedia\\nFor other uses, see Chatbot (disambiguation).\\n\\nA virtual assistant chatbot\\n\\nThe 1966 ELIZA chatbot\\nA chatbot or chatterbot is a software application used to conduct an on-line chat conversation via text or text-to-speech, in lieu of providing direct contact with a live human agent.[1][2] Designed to convincingly simulate the way a human would behave as a conversational partner, chatbot systems typically require continuous tuning and testing, and many in production remain unable to adequately converse, while none of them can pass the standard Turing test.[3] The term \"ChatterBot\" was originally coined by Michael Mauldin (creator of the first Verbot) in 1994 to describe these conversational programs.[4]\\n\\nChatbots are used in dialog systems for various purposes including customer service, request routing, or information gathering. While some chatbot applications use extensive word-classification processes, natural-language processors, and sophisticated AI, others simply scan for general keywords and generate responses using common phrases obtained from an associated library or database.\\n\\nMost chatbots are accessed on-line via website popups or through virtual assistants. They can be classified into usage categories that include: commerce (e-commerce via chat), education, entertainment, finance, health, news, and productivity.[5]\\n\\nBackground\\nIn 1950, Alan Turing\\'s famous article \"Computing Machinery and Intelligence\" was published,[6] which proposed what is now called the Turing test as a criterion of intelligence. This criterion depends on the ability of a computer program to impersonate a human in a real-time written conversation with a human judge to the extent that the judge is unable to distinguish reliably—on the basis of the conversational content alone—between the program and a real human. The notoriety of Turing\\'s proposed test stimulated great interest in Joseph Weizenbaum\\'s program ELIZA, published in 1966, which seemed to be able to fool users into believing that they were conversing with a real human. However Weizenbaum himself did not claim that ELIZA was genuinely intelligent, and the introduction to his paper presented it more as a debunking exercise:\\n\\n[In] artificial intelligence ... machines are made to behave in wondrous ways, often sufficient to dazzle even the most experienced observer. But once a particular program is unmasked, once its inner workings are explained ... its magic crumbles away; it stands revealed as a mere collection of procedures ... The observer says to himself \"I could have written that\". With that thought, he moves the program in question from the shelf marked \"intelligent\", to that reserved for curios ... The object of this paper is to cause just such a re-evaluation of the program about to be \"explained\". Few programs ever needed it more.[7]\\n\\nELIZA\\'s key method of operation (copied by chatbot designers ever since) involves the recognition of clue words or phrases in the input, and the output of the corresponding pre-prepared or pre-programmed responses that can move the conversation forward in an apparently meaningful way (e.g. by responding to any input that contains the word \\'MOTHER\\' with \\'TELL ME MORE ABOUT YOUR FAMILY\\').[8] Thus an illusion of understanding is generated, even though the processing involved has been merely superficial. ELIZA showed that such an illusion is surprisingly easy to generate because human judges are so ready to give the benefit of the doubt when conversational responses are capable of being interpreted as \"intelligent\".\\n\\nInterface designers have come to appreciate that humans\\' readiness to interpret computer output as genuinely conversational—even when it is actually based on rather simple pattern-matching—can be exploited for useful purposes. Most people prefer to engage with programs that are human-like, and this gives chatbot-style techniques a potentially useful role in interactive systems that need to elicit information from users, as long as that information is relatively straightforward and falls into predictable categories. Thus, for example, online help systems can usefully employ chatbot techniques to identify the area of help that users require, potentially providing a \"friendlier\" interface than a more formal search or menu system. This sort of usage holds the prospect of moving chatbot technology from Weizenbaum\\'s \"shelf ... reserved for curios\" to that marked \"genuinely useful computational methods\".\\n\\nDevelopment\\nAmong the most notable early chatbots are ELIZA (1966) and PARRY (1972).[9][10][11][12] More recent notable programs include A.L.I.C.E., Jabberwacky and D.U.D.E (Agence Nationale de la Recherche and CNRS 2006). While ELIZA and PARRY were used exclusively to simulate typed conversation, many chatbots now include other functional features, such as games and web searching abilities. In 1984, a book called The Policeman\\'s Beard is Half Constructed was published, allegedly written by the chatbot Racter (though the program as released would not have been capable of doing so).[13]\\n\\nOne pertinent field of AI research is natural-language processing. Usually, weak AI fields employ specialized software or programming languages created specifically for the narrow function required. For example, A.L.I.C.E. uses a markup language called AIML,[2] which is specific to its function as a conversational agent, and has since been adopted by various other developers of, so-called, Alicebots. Nevertheless, A.L.I.C.E. is still purely based on pattern matching techniques without any reasoning capabilities, the same technique ELIZA was using back in 1966. This is not strong AI, which would require sapience and logical reasoning abilities.\\n\\nJabberwacky learns new responses and context based on real-time user interactions, rather than being driven from a static database. Some more recent chatbots also combine real-time learning with evolutionary algorithms that optimize their ability to communicate based on each conversation held. Still, there is currently no general purpose conversational artificial intelligence, and some software developers focus on the practical aspect, information retrieval.\\n\\nChatbot competitions focus on the Turing test or more specific goals. Two such annual contests are the Loebner Prize and The Chatterbox Challenge (the latter has been offline since 2015, however, materials can still be found from web archives).[14]\\n\\nDBpedia created a chatbot during the GSoC of 2017.[15][16][17] It can communicate through Facebook Messenger.\\n\\nIn November 2022, OpenAI developed an AI chatbot called ChatGPT which interacts using conversation to the general public and has garnered attention for its detailed responses and historical knowledge, although its accuracy has been criticized.\\n\\nApplication\\nSee also: Virtual assistant\\nMessaging apps\\nMany companies\\' chatbots run on messaging apps or simply via SMS. They are used for B2C customer service, sales and marketing.[18]\\n\\nIn 2016, Facebook Messenger allowed developers to place chatbots on their platform. There were 30,000 bots created for Messenger in the first six months, rising to 100,000 by September 2017.[19]\\n\\nSince September 2017, this has also been as part of a pilot program on WhatsApp. Airlines KLM and Aeroméxico both announced their participation in the testing;[20][21][22][23] both airlines had previously launched customer services on the Facebook Messenger platform.\\n\\nThe bots usually appear as one of the user\\'s contacts, but can sometimes act as participants in a group chat.\\n\\nMany banks, insurers, media companies, e-commerce companies, airlines, hotel chains, retailers, health care providers, government entities and restaurant chains have used chatbots to answer simple questions, increase customer engagement,[24] for promotion, and to offer additional ways to order from them.[25]\\n\\nA 2017 study showed 4% of companies used chatbots.[26] According to a 2016 study, 80% of businesses said they intended to have one by 2020.[27]\\n\\nAs part of company apps and websites\\nPrevious generations of chatbots were present on company websites, e.g. Ask Jenn from Alaska Airlines which debuted in 2008[28] or Expedia\\'s virtual customer service agent which launched in 2011.[28][29] The newer generation of chatbots includes IBM Watson-powered \"Rocky\", introduced in February 2017 by the New York City-based e-commerce company Rare Carat to provide information to prospective diamond buyers.[30][31]\\n\\nChatbot sequences\\nUsed by marketers to script sequences of messages, very similar to an Autoresponder sequence. Such sequences can be triggered by user opt-in or the use of keywords within user interactions. After a trigger occurs a sequence of messages is delivered until the next anticipated user response. Each user response is used in the decision tree to help the chatbot navigate the response sequences to deliver the correct response message.\\n\\nCompany internal platforms\\nOther companies explore ways they can use chatbots internally, for example for Customer Support, Human Resources, or even in Internet-of-Things (IoT) projects. Overstock.com, for one, has reportedly launched a chatbot named Mila to automate certain simple yet time-consuming processes when requesting sick leave.[32] Other large companies such as Lloyds Banking Group, Royal Bank of Scotland, Renault and Citroën are now using automated online assistants instead of call centres with humans to provide a first point of contact. A SaaS chatbot business ecosystem has been steadily growing since the F8 Conference when Facebook\\'s Mark Zuckerberg unveiled that Messenger would allow chatbots into the app.[33] In large companies, like in hospitals and aviation organizations, IT architects are designing reference architectures for Intelligent Chatbots that are used to unlock and share knowledge and experience in the organization more efficiently, and reduce the errors in answers from expert service desks significantly.[34] These Intelligent Chatbots make use of all kinds of artificial intelligence like image moderation and natural-language understanding (NLU), natural-language generation (NLG), machine learning and deep learning.\\n\\nCustomer service\\nMany high-tech banking organizations are looking to integrate automated AI-based solutions such as chatbots into their customer service in order to provide faster and cheaper assistance to their clients who are becoming increasingly comfortable with technology. In particular, chatbots can efficiently conduct a dialogue, usually replacing other communication tools such as email, phone, or SMS. In banking, their major application is related to quick customer service answering common requests, as well as transactional support.\\n\\nSeveral studies report significant reduction in the cost of customer services, expected to lead to billions of dollars of economic savings in the next ten years.[35] In 2019, Gartner predicted that by 2021, 15% of all customer service interactions globally will be handled completely by AI.[36] A study by Juniper Research in 2019 estimates retail sales resulting from chatbot-based interactions will reach $112 billion by 2023.[37]\\n\\nSince 2016, when Facebook allowed businesses to deliver automated customer support, e-commerce guidance, content, and interactive experiences through chatbots, a large variety of chatbots were developed for the Facebook Messenger platform.[38]\\n\\nIn 2016, Russia-based Tochka Bank launched the world\\'s first Facebook bot for a range of financial services, including a possibility of making payments.[39]\\n\\nIn July 2016, Barclays Africa also launched a Facebook chatbot, making it the first bank to do so in Africa.[40]\\n\\nThe France\\'s third-largest bank by total assets[41] Société Générale launched their chatbot called SoBot in March 2018. While 80% of users of the SoBot expressed their satisfaction after having tested it, Société Générale deputy director Bertrand Cozzarolo stated that it will never replace the expertise provided by a human advisor. [42]\\n\\nThe advantages of using chatbots for customer interactions in banking include cost reduction, financial advice, and 24/7 support.[43][44]\\n\\nHealthcare\\nSee also: Artificial intelligence in healthcare\\nChatbots are also appearing in the healthcare industry.[45][46] A study suggested that physicians in the United States believed that chatbots would be most beneficial for scheduling doctor appointments, locating health clinics, or providing medication information.[47]\\n\\nWhatsapp has teamed up with the World Health Organisation (WHO) to make a chatbot service that answers users’ questions on COVID-19.[48]\\n\\nIn 2020, The Indian Government launched a chatbot called MyGov Corona Helpdesk,[49] that worked through Whatsapp and helped people access information about the Coronavirus (COVID-19) pandemic.[50][51]\\n\\nCertain patient groups are still reluctant to use chatbots. A mixed-methods study showed that people are still hesitant to use chatbots for their healthcare due to poor understanding of the technological complexity, the lack of empathy, and concerns about cyber-security.[52] The analysis showed that while 6% had heard of a health chatbot and 3% had experience of using it, 67% perceived themselves as likely to use one within 12 months. The majority of participants would use a health chatbot for seeking general health information (78%), booking a medical appointment (78%), and looking for local health services (80%). However, a health chatbot was perceived as less suitable for seeking results of medical tests and seeking specialist advice such as sexual health. The analysis of attitudinal variables showed that most participants reported their preference for discussing their health with doctors (73%) and having access to reliable and accurate health information (93%). While 80% were curious about new technologies that could improve their health, 66% reported only seeking a doctor when experiencing a health problem and 65% thought that a chatbot was a good idea. Interestingly, 30% reported dislike about talking to computers, 41% felt it would be strange to discuss health matters with a chatbot and about half were unsure if they could trust the advice given by a chatbot. Therefore, perceived trustworthiness, individual attitudes towards bots, and dislike for talking to computers are the main barriers to health chatbots.\\n\\nPolitics\\nSee also: Government by algorithm § AI politicians\\nIn New Zealand, the chatbot SAM – short for Semantic Analysis Machine[53] (made by Nick Gerritsen of Touchtech[54]) – has been developed. It is designed to share its political thoughts, for example on topics such as climate change, healthcare and education, etc. It talks to people through Facebook Messenger.[55][56][57][58]\\n\\nIn 2022, the chatbot \"Leader Lars\" or \"Leder Lars\" was nominated for The Synthetic Party to run in the Danish parliamentary election,[59] and was built by the artist collective Computer Lars.[60] Leader Lars differed from earlier virtual politicians by leading a political party and by not pretending to be an objective candidate.[61] This chatbot engaged in critical discussions on politics with users from around the world.[62]\\n\\nIn India, the state government has launched a chatbot for its Aaple Sarkar platform,[63] which provides conversational access to information regarding public services managed.[64][65]\\n\\nToys\\nChatbots have also been incorporated into devices not primarily meant for computing, such as toys.[66]\\n\\nHello Barbie is an Internet-connected version of the doll that uses a chatbot provided by the company ToyTalk,[67] which previously used the chatbot for a range of smartphone-based characters for children.[68] These characters\\' behaviors are constrained by a set of rules that in effect emulate a particular character and produce a storyline.[69]\\n\\nThe My Friend Cayla doll was marketed as a line of 18-inch (46 cm) dolls which uses speech recognition technology in conjunction with an Android or iOS mobile app to recognize the child\\'s speech and have a conversation. It, like the Hello Barbie doll, attracted controversy due to vulnerabilities with the doll\\'s Bluetooth stack and its use of data collected from the child\\'s speech.\\n\\nIBM\\'s Watson computer has been used as the basis for chatbot-based educational toys for companies such as CogniToys[66] intended to interact with children for educational purposes.[70]\\n\\nMalicious use\\nMalicious chatbots are frequently used to fill chat rooms with spam and advertisements, by mimicking human behavior and conversations or to entice people into revealing personal information, such as bank account numbers. They were commonly found on Yahoo! Messenger, Windows Live Messenger, AOL Instant Messenger and other instant messaging protocols. There has also been a published report of a chatbot used in a fake personal ad on a dating service\\'s website.[71]\\n\\nTay, an AI chatbot that learns from previous interaction, caused major controversy due to it being targeted by internet trolls on Twitter. The bot was exploited, and after 16 hours began to send extremely offensive Tweets to users. This suggests that although the bot learned effectively from experience, adequate protection was not put in place to prevent misuse.[72]\\n\\nIf a text-sending algorithm can pass itself off as a human instead of a chatbot, its message would be more credible. Therefore, human-seeming chatbots with well-crafted online identities could start scattering fake news that seems plausible, for instance making false claims during an election. With enough chatbots, it might be even possible to achieve artificial social proof.[73][74]\\n\\nLimitations of chatbots\\nThe creation and implementation of chatbots is still a developing area, heavily related to artificial intelligence and machine learning, so the provided solutions, while possessing obvious advantages, have some important limitations in terms of functionalities and use cases. However, this is changing over time.\\n\\nThe most common limitations are listed below:[75]\\n\\nAs the database, used for output generation, is fixed and limited, chatbots can fail while dealing with an unsaved query.[44]\\nA chatbot\\'s efficiency highly depends on language processing and is limited because of irregularities, such as accents and mistakes.\\nChatbots are unable to deal with multiple questions at the same time and so conversation opportunities are limited.[75]\\nChatbots require a large amount of conversational data to train. Generative models, which are based on deep learning algorithms to generate new responses word by word based on user input, are usually trained on a large dataset of natural-language phrases.[2]\\nChatbots have difficulty managing non-linear conversations that must go back and forth on a topic with a user.[76]\\nAs it happens usually with technology-led changes in existing services, some consumers, more often than not from older generations, are uncomfortable with chatbots due to their limited understanding, making it obvious that their requests are being dealt with by machines.[75]\\nChatbots and jobs\\nChatbots are increasingly present in businesses and often are used to automate tasks that do not require skill-based talents. With customer service taking place via messaging apps as well as phone calls, there are growing numbers of use-cases where chatbot deployment gives organizations a clear return on investment. Call center workers may be particularly at risk from AI-driven chatbots.[77]\\n\\nChatbot jobs\\n\\nChatbot developers create, debug, and maintain applications that automate customer services or other communication processes. Their duties include reviewing and simplifying code when needed. They may also help companies implement bots in their operations.\\n\\nA study by Forrester (June 2017) predicted that 25% of all jobs would be impacted by AI technologies by 2019.[78]\\n\\nSee also\\nicon\\tLinguistics portal\\nApplications of artificial intelligence\\nArtificial philosophy\\nAutonomous agent\\nChatGPT (from OpenAI)\\nConversational user interface\\nEugene Goostman\\nFriendly artificial intelligence\\nHybrid intelligent system\\nIntelligent agent\\nInternet bot\\nList of chatbots\\nMulti-agent system\\nNatural language processing\\nSocial bot\\nSoftware agent\\nSoftware bot\\nTwitterbot\\nVirtual assistant\\nReferences\\n \"What is a chatbot?\". techtarget.com. Retrieved 30 January 2017.\\n Caldarini, Guendalina; Jaf, Sardar; McGarry, Kenneth (2022). \"A Literature Survey of Recent Advances in Chatbots\". Information. MDPI. 13 (1): 41. doi:10.3390/info13010041.\\n Luka Bradeško, Dunja Mladenić. \"A Survey of Chabot Systems through a Loebner Prize Competition\". S2CID 39745939.\\n Mauldin 1994\\n \"2017 Messenger Bot Landscape, a Public Spreadsheet Gathering 1000+ Messenger Bots\". 3 May 2017.\\n (Turing 1950)\\n (Weizenbaum 1966, p. 36)\\n (Weizenbaum 1966, pp. 44–5)\\n GüzeldereFranchi 1995\\n Computer History Museum 2006\\n Sondheim 1997\\n Network Working Group 1973—Transcript of a session between Parry and Eliza. (This is not the dialogue from the ICCC, which took place October 24–26, 1972, whereas this session is from September 18, 1972.)\\n http://everything2.com/title/The+Policeman%2527s+Beard+is+Half+Constructed 13 November 1999\\n \"Chatroboter simulieren Menschen\".\\n \"DBpedia Chatbot\". chat.dbpedia.org.\\n \"Meet the DBpedia Chatbot | DBpedia\". wiki.dbpedia.org. 22 August 2018.\\n \"Meet the DBpedia Chatbot\". August 22, 2018.\\n Beaver, Laurie (July 2016). The Chatbots Explainer. BI Intelligence.\\n \"Facebook Messenger Hits 100,000 bots\". 2017-04-18. Retrieved 2017-09-22.\\n \"KLM claims airline first with WhatsApp Business Platform\". www.phocuswire.com.\\n Forbes Staff (26 October 2017). \"Aeroméxico te atenderá por WhatsApp durante 2018\". Retrieved 2 July 2018.\\n Redacción (27 October 2017). \"Podrás hacer \\'check in\\' y consultar tu vuelo con Aeroméxico a través de WhatsApp\". Huffington Post. Archived from the original on 10 March 2018. Retrieved 2 July 2018.\\n \"Building for People, and Now Businesses\". WhatsApp.com. Retrieved 2 July 2018.\\n \"She is the company\\'s most effective employee\". Nordea News.\\n \"Better believe the bot boom is blowing up big for B2B, B2C businesses\". VentureBeat. 2016-07-24.\\n \"The AI Revolution is Underway! – PM360\". www.pm360online.com. Retrieved 2 July 2018.\\n \"80% of businesses want chatbots by 2020\". Business Insider. Retrieved 2 July 2018.\\n \"A Virtual Travel Agent With All the Answers\". The New York Times. 4 March 2008.\\n \"Chatbot vendor directory released –\". www.hypergridbusiness.com.\\n \"Rare Carat\\'s Watson-powered chatbot will help you put a diamond ring on it\". TechCrunch. February 15, 2017.\\n \"10 ways you may have already used IBM Watson\". VentureBeat. March 10, 2017.\\n Greenfield, Rebecca (5 May 2016). \"Chatbots Are Your Newest, Dumbest Co-Workers\". Bloomberg.com.\\n \"Facebook opens its Messenger platform to chatbots\". 12 April 2016.\\n \"Chatbot Reference Architecture\". 1 January 2019.\\n \"How Chatbots are Transforming Wall Street and Main Street Banks?\". 1 April 2019.\\n \"How to Manage Customer Service Technology Innovation\". www.gartner.com. Archived from the original on December 11, 2019. Retrieved 2020-01-02.\\n \"CHATBOT INTERACTIONS IN RETAIL TO REACH 22 BILLION BY 2023, AS AI OFFERS COMPELLING NEW ENGAGEMENT SOLUTIONS\". www.juniperresearch.com. Retrieved 2020-01-02.\\n \"Facebook launches Messenger platform with chatbots\". 1 April 2019.\\n \"Российский банк запустил чат-бота в Facebook\". 1 April 2019.\\n \"Absa launches \\'world-first\\' Facebook Messenger banking\". 1 April 2019.\\n \"The Biggest French Banks by Total Assets\". Banks around the World. Retrieved April 1, 2019.\\n \"GAGNER DU TEMPS AVEC LE CHATBOT BANCAIRE POUR GAGNER EN INTELLIGENCE AVEC LES CONSEILLERS\". Marketing Client. Retrieved April 1, 2019.\\n \"Meet 11 of the Most Interesting Chatbots in Banking\". The Financial Brain. 14 March 2018. Retrieved April 1, 2019.\\n \"CHATBOTS: BOON OR BANE?\". bluelupin. 9 January 2018. Retrieved April 1, 2019.\\n Larson, Selena (October 11, 2016). \"Baidu is bringing AI chatbots to healthcare\". CNN Money.\\n \"AI chatbots have a future in healthcare, with caveats\". AI in Healthcare.\\n Palanica, Adam; Flaschner, Peter; Thommandram, Anirudh; Li, Michael; Fossat, Yan (January 3, 2019). \"Physicians\\' Perceptions of Chatbots in Health Care: Cross-Sectional Web-Based Survey\". Journal of Medical Internet Research. 21 (4): e12887. doi:10.2196/12887. PMC 6473203. PMID 30950796.\\n Ahaskar, Abhijit (2020-03-27). \"How WhatsApp chatbots are helping in the fight against Covid-19\". Mint. Retrieved 2020-07-23.\\n \"India\\'s Coronavirus Chatbot on WhatsApp Crosses 1.7 Crore Users in 10 Days\". NDTV Gadgets 360. Retrieved 2020-07-23.\\n Kurup, Rajesh (21 March 2020). \"COVID-19: Govt of India launches a WhatsApp chatbot\". Business Line. Retrieved 2020-07-23.\\n \"In focus: Mumbai-based Haptik which developed India\\'s official WhatsApp chatbot for Covid-19\". Hindustan Times. 7 April 2020. Retrieved 2020-07-23.\\n Nadarzynski, Tom; Miles, Oliver; Cowie, Aimee; Ridge, Damien (January 1, 2019). \"Acceptability of artificial intelligence (AI)-led chatbot services in healthcare: A mixed-methods study\". Digital Health. 5: 2055207619871808. doi:10.1177/2055207619871808. PMC 6704417. PMID 31467682.\\n \"Sam, the virtual politician\". Tuia Innovation.\\n Wellington, Victoria University of (December 15, 2017). \"Meet the world\\'s first virtual politician\". Victoria University of Wellington.\\n Wagner, Meg (23 November 2017). \"This virtual politician wants to run for office\". CNN.\\n \"Talk with the first-ever robot politician on Facebook Messenger\". Engadget.\\n Prakash, Abishur (August 8, 2018). \"AI-Politicians: A Revolution In Politics\". Medium.\\n SAM website\\n Sternberg, Sarah (20 June 2022). \"Danskere vil ind på den politiske scene med kunstig intelligens\" [Danes want to enter the political scene with artificial intelligence]. Jyllands-Posten. Retrieved 2022-06-20.\\n Diwakar, Amar (2022-08-22). \"Can an AI-led Danish party usher in an age of algorithmic politics?\". TRT World. Retrieved 2022-08-22.\\n Xiang, Chloe (13 October 2022). \"This Danish Political Party Is Led by an AI\". Vice: Motherboard. Retrieved 2022-10-13.\\n Hearing, Alice (14 October 2022). \"A.I. chatbot is leading a Danish political party and setting its policies. Now users are grilling it for its stance on political landmines\". Fortune.\\n \"Maharashtra government launches Aaple Sarkar chatbot to provide info on 1,400 public services\". CNBC TV18. 5 March 2019. Retrieved 2020-07-23.\\n \"Government of Maharashtra launches Aaple Sarkar chatbot with Haptik\". The Economic Times. Retrieved 2020-07-23.\\n Aggarwal, Varun (5 March 2019). \"Maharashtra launches Aaple Sarkar chatbot\". Business Line. Retrieved 2020-07-23.\\n Amy (2015-02-23). \"Conversational Toys – The Latest Trend in Speech Technology\". Virtual Agent Chat. Archived from the original on 2018-02-21. Retrieved 2016-08-11.\\n NAGY, EVIE (13 February 2015). \"USING TOY-TALK TECHNOLOGY, NEW HELLO BARBIE WILL HAVE REAL CONVERSATIONS WITH KIDS\". Fast Company. Retrieved 18 March 2015.\\n Oren Jacob, the co-founder and CEO of ToyTalk interviewed on the TV show Triangulation on the TWiT.tv network\\n \"Artificial intelligence script tool\".\\n Takahashi, Dean (23 February 2015). \"Elemental\\'s smart connected toy taps IBM\\'s Watson supercomputer for its brains\". Venture Beat. Retrieved 15 May 2015.\\n \"From Russia With Love\" (PDF). Retrieved 2007-12-09. Psychologist and Scientific American: Mind contributing editor Robert Epstein reports how he was initially fooled by a chatterbot posing as an attractive girl in a personal ad he answered on a dating website. In the ad, the girl portrayed herself as being in Southern California and then soon revealed, in poor English, that she was actually in Russia. He became suspicious after a couple of months of email exchanges, sent her an email test of gibberish, and she still replied in general terms. The dating website is not named. Scientific American: Mind, October–November 2007, page 16–17, \"From Russia With Love: How I got fooled (and somewhat humiliated) by a computer\". Also available online.\\n Bird, Jordan J.; Ekart, Aniko; Faria, Diego R. (June 2018). Learning from Interaction: An Intelligent Networked-based Human-bot and Bot-bot Chatbot System in: Advances in Computational Intelligence Systems (1st ed.). Nottingham, UK: Springer. pp. 179–190. doi:10.1007/978-3-319-97982-3_15. ISBN 978-3-319-97982-3. S2CID 52069140.\\n \"Fake News\". 20 November 2018. Retrieved 2018-11-20.\\n \"Malicious uses\". Retrieved 2016-05-11.\\n \"Meet 11 of the Most Interesting Chatbots in Banking\". 14 March 2018. Retrieved 2019-04-01.\\n Grudin, Jonathan; Jacques, Richard (2019), \"Chatbots, Humbots, and the Quest for Artificial General Intelligence\", Proceedings of the 2019 CHI Conference on Human Factors in Computing Systems – CHI \\'19, ACM CHI 2020, pp. 209–219, doi:10.1145/3290605.3300439, ISBN 978-1-4503-5970-2, S2CID 140274744\\n \"How talking machines are taking call center jobs\". BBC News. 23 August 2018. Retrieved 2019-04-01.\\n \"How chatbots are killing jobs (and creating new ones)\". June 2017. Retrieved 2019-04-01.\\nBibliography\\nComputer History Museum (2006), \"Internet History—1970\\'s\", Exhibits, Computer History Museum, archived from the original on 2008-02-21, retrieved 2008-03-05\\nGüzeldere, Güven; Franchi, Stefano (1995-07-24), \"Constructions of the Mind\", Stanford Humanities Review, SEHR, Stanford University, 4 (2), retrieved 2008-03-05\\nMauldin, Michael (1994), \"ChatterBots, TinyMuds, and the Turing Test: Entering the Loebner Prize Competition\", Proceedings of the Eleventh National Conference on Artificial Intelligence, AAAI Press, retrieved 2008-03-05 (abstract)\\nNetwork Working Group (1973), \"RFC 439, PARRY Encounters the DOCTOR\", Internet Engineering Task Force, Internet Society, doi:10.17487/RFC0439, retrieved 2008-03-05\\nSondheim, Alan J (1997), <nettime> Important Documents from the Early Internet (1972), nettime.org, archived from the original on 2008-06-13, retrieved 2008-03-05\\nTuring, Alan (1950), \"Computing Machinery and Intelligence\", Mind, 59 (236): 433–60, doi:10.1093/mind/lix.236.433\\nWeizenbaum, Joseph (January 1966), \"ELIZA—A Computer Program For the Study of Natural Language Communication Between Man And Machine\", Communications of the ACM, 9 (1): 36–45, doi:10.1145/365153.365168, S2CID 1896290\\nFurther reading\\nSearle, John (1980), \"Minds, Brains and Programs\", Behavioral and Brain Sciences, 3 (3): 417–457, doi:10.1017/S0140525X00005756, S2CID 55303721\\nShevat, Amir (2017). Designing bots: Creating conversational experiences (First ed.). Sebastopol, CA: O\\'Reilly Media. ISBN 978-1-4919-7482-7. OCLC 962125282.\\nExternal links\\n Media related to Chatbots at Wikimedia Commons\\n Conversational bots at Wikibooks\\nvte\\nNatural language processing\\nPortal:\\nicon Language\\nAuthority control: National libraries Edit this at Wikidata\\t\\nGermanyCzech Republic\\nCategories: ChatbotsInstant messagingInteractive narrativeNatural language parsing\\nThis page was last edited on 19 January 2023, at 20:41 (UTC).\\nText is available under the Creative Commons Attribution-ShareAlike License 3.0; additional terms may apply. By using this site, you agree to the Terms of Use and Privacy Policy. Wikipedia® is a registered trademark of the Wikimedia Foundation, Inc., a non-profit organization.\\nPrivacy policyAbout WikipediaDisclaimersContact WikipediaMobile viewDevelopersStatisticsCookie statementWikimedia FoundationPowered by MediaWiki'"
            ],
            "application/vnd.google.colaboratory.intrinsic+json": {
              "type": "string"
            }
          },
          "metadata": {},
          "execution_count": 3
        }
      ]
    },
    {
      "cell_type": "code",
      "source": [
        "raw_doc=raw_doc.lower()\n",
        "nltk.download('punkt')\n",
        "nltk.download('wordnet')\n",
        "nltk.download('omw-1.4')\n"
      ],
      "metadata": {
        "colab": {
          "base_uri": "https://localhost:8080/"
        },
        "id": "h2IeTMfBxa60",
        "outputId": "7b13c91c-5002-4661-ff11-aa42dc854839"
      },
      "execution_count": 14,
      "outputs": [
        {
          "output_type": "stream",
          "name": "stderr",
          "text": [
            "[nltk_data] Downloading package punkt to /root/nltk_data...\n",
            "[nltk_data]   Unzipping tokenizers/punkt.zip.\n",
            "[nltk_data] Downloading package wordnet to /root/nltk_data...\n",
            "[nltk_data] Downloading package omw-1.4 to /root/nltk_data...\n"
          ]
        },
        {
          "output_type": "execute_result",
          "data": {
            "text/plain": [
              "True"
            ]
          },
          "metadata": {},
          "execution_count": 14
        }
      ]
    },
    {
      "cell_type": "code",
      "source": [
        "sentence_tokens=nltk.sent_tokenize(raw_doc)\n",
        "word_tokens=nltk.word_tokenize(raw_doc)"
      ],
      "metadata": {
        "id": "q9HTkL2QyPBJ"
      },
      "execution_count": 15,
      "outputs": []
    },
    {
      "cell_type": "code",
      "source": [
        "sentence_tokens[:5]"
      ],
      "metadata": {
        "colab": {
          "base_uri": "https://localhost:8080/"
        },
        "id": "22X3t1hGyV3j",
        "outputId": "c6737308-029a-4c89-cba0-92fd42fd6cb6"
      },
      "execution_count": 16,
      "outputs": [
        {
          "output_type": "execute_result",
          "data": {
            "text/plain": [
              "['jump to content\\ntoggle sidebar\\n\\nwikipediathe free encyclopedia\\nsearch\\ncreate account\\n\\nfoo\\n\\ndesktop icon\\nwe’ve made a few changes to your reading experience.',\n",
              " 'these improvements will make wikipedia more welcoming and easier to use.',\n",
              " 'chatbot\\n\\narticle\\ntalk\\nread\\nedit\\nview history\\nfrom wikipedia, the free encyclopedia\\nfor other uses, see chatbot (disambiguation).',\n",
              " 'a virtual assistant chatbot\\n\\nthe 1966 eliza chatbot\\na chatbot or chatterbot is a software application used to conduct an on-line chat conversation via text or text-to-speech, in lieu of providing direct contact with a live human agent.',\n",
              " '[1][2] designed to convincingly simulate the way a human would behave as a conversational partner, chatbot systems typically require continuous tuning and testing, and many in production remain unable to adequately converse, while none of them can pass the standard turing test.']"
            ]
          },
          "metadata": {},
          "execution_count": 16
        }
      ]
    },
    {
      "cell_type": "code",
      "source": [
        "word_tokens[:5]"
      ],
      "metadata": {
        "colab": {
          "base_uri": "https://localhost:8080/"
        },
        "id": "wIITmcyAykMA",
        "outputId": "5df38171-b838-4f2c-e91b-e4acb1f19a4e"
      },
      "execution_count": 17,
      "outputs": [
        {
          "output_type": "execute_result",
          "data": {
            "text/plain": [
              "['jump', 'to', 'content', 'toggle', 'sidebar']"
            ]
          },
          "metadata": {},
          "execution_count": 17
        }
      ]
    },
    {
      "cell_type": "code",
      "source": [
        "lemmer=nltk.stem.WordNetLemmatizer()\n",
        "def LemTokens(tokens):\n",
        "  return [lemmer.lemmatize(token) for token in tokens]\n",
        "remove_punc_dict=dict((ord(punct),None)for punct in string.punctuation)\n",
        "def LemNormalize(text):\n",
        "  return LemTokens(nltk.word_tokenize(text.lower().translate(remove_punc_dict)))"
      ],
      "metadata": {
        "id": "t5Jcm3t7yo3k"
      },
      "execution_count": 23,
      "outputs": []
    },
    {
      "cell_type": "code",
      "source": [
        "greet_inputs=('hello','hi','whassup','how are you ?')\n",
        "greet_response=('hi','Hey','Hey There!','There there!!')\n",
        "def greet(sentence):\n",
        "  for word in sentence.split():\n",
        "    if word.lower in greet_inputs:\n",
        "      return random.choice(greet_response)"
      ],
      "metadata": {
        "id": "RAvMf7ayzdXn"
      },
      "execution_count": 24,
      "outputs": []
    },
    {
      "cell_type": "code",
      "source": [
        "from sklearn.feature_extraction.text import TfidfVectorizer\n",
        "from sklearn.metrics.pairwise import cosine_similarity"
      ],
      "metadata": {
        "id": "uaxYkPZt0Hh-"
      },
      "execution_count": 25,
      "outputs": []
    },
    {
      "cell_type": "code",
      "source": [
        "def response(user_response):\n",
        "  robo1_response=''\n",
        "  TfidfVec=TfidfVectorizer(tokenizer = LemNormalize,stop_words='english')\n",
        "  tfidf=TfidfVec.fit_transform(sentence_tokens)\n",
        "  vals=cosine_similarity(tfidf[-1],tfidf)\n",
        "  idx=vals.argsort()[0][-2]\n",
        "  flat=vals.flatten()\n",
        "  flat.sort()\n",
        "  req_tfidf=flat[-2]\n",
        "  if(req_tfidf==0):\n",
        "    robo1_response=robo1_response+ \"I am Sorry, Unable to understand you\"\n",
        "    return robo1_response\n",
        "  else:\n",
        "    robo1_response=robo1_response + sentence_tokens[idx]\n",
        "    return robo1_response "
      ],
      "metadata": {
        "id": "wqph8XFL0fKQ"
      },
      "execution_count": 26,
      "outputs": []
    },
    {
      "cell_type": "code",
      "source": [
        "flag=True\n",
        "print('Hello! I am the learning Bot. start typing your text after greeting to talk to me For ending convo type bye')\n",
        "while(flag==True):\n",
        "  user_response=input()\n",
        "  user_response=user_response.lower()\n",
        "  if(user_response!='bye'):\n",
        "    if(user_response=='thank you' or user_response=='thanks'):\n",
        "      flag=False\n",
        "      print('Bot: You are Welcome')\n",
        "    else:\n",
        "      if(greet(user_response)!=None):\n",
        "        print('Bot '+greet(user_response))\n",
        "      else:\n",
        "        sentence_tokens.append(user_response)\n",
        "        word_tokens=word_tokens+nltk.word_tokenize(user_response)\n",
        "        final_words=list(set(word_tokens))\n",
        "        print('Bot: ',end='')\n",
        "        print(response(user_response))\n",
        "        sentence_tokens.remove(user_response)\n",
        "  else:\n",
        "    flag=False\n",
        "    print('Bot: GoodBye!')\n"
      ],
      "metadata": {
        "colab": {
          "base_uri": "https://localhost:8080/"
        },
        "id": "T2JhB2Zu2cNb",
        "outputId": "46652e3d-23fe-4bd0-a50e-681aaccb8be2"
      },
      "execution_count": 27,
      "outputs": [
        {
          "output_type": "stream",
          "name": "stdout",
          "text": [
            "Hello! I am the learning Bot. start typing your text after greeting to talk to me For ending convo type bye\n",
            "hii\n",
            "Bot: "
          ]
        },
        {
          "output_type": "stream",
          "name": "stderr",
          "text": [
            "/usr/local/lib/python3.8/dist-packages/sklearn/feature_extraction/text.py:396: UserWarning: Your stop_words may be inconsistent with your preprocessing. Tokenizing the stop words generated tokens ['ha', 'le', 'u', 'wa'] not in stop_words.\n",
            "  warnings.warn(\n"
          ]
        },
        {
          "output_type": "stream",
          "name": "stdout",
          "text": [
            "hii\n",
            "what is chatbot\n",
            "Bot: \"dbpedia chatbot\".\n",
            "okay let me know who invented chtbot\n",
            "Bot: I am Sorry, Unable to understand you\n",
            "eho invented chatbot\n",
            "Bot: \"dbpedia chatbot\".\n",
            "chatbot\n",
            "Bot: \"dbpedia chatbot\".\n",
            "bye\n",
            "Bot: GoodBye!\n"
          ]
        }
      ]
    }
  ]
}